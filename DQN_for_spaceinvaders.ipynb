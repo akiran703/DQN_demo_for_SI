{
  "nbformat": 4,
  "nbformat_minor": 0,
  "metadata": {
    "colab": {
      "provenance": [],
      "authorship_tag": "ABX9TyOdxXxrckQpGoPyqPBweWTv",
      "include_colab_link": true
    },
    "kernelspec": {
      "name": "python3",
      "display_name": "Python 3"
    },
    "language_info": {
      "name": "python"
    }
  },
  "cells": [
    {
      "cell_type": "markdown",
      "metadata": {
        "id": "view-in-github",
        "colab_type": "text"
      },
      "source": [
        "<a href=\"https://colab.research.google.com/github/akiran703/DQN_demo_for_SI/blob/main/DQN_for_spaceinvaders.ipynb\" target=\"_parent\"><img src=\"https://colab.research.google.com/assets/colab-badge.svg\" alt=\"Open In Colab\"/></a>"
      ]
    },
    {
      "cell_type": "code",
      "source": [
        "!pip install gym[atari]\n",
        "!pip install autorom[accept-rom-license]"
      ],
      "metadata": {
        "colab": {
          "base_uri": "https://localhost:8080/"
        },
        "id": "kLDMTBoYemAq",
        "outputId": "340ad31d-809f-4569-8f13-3151d872ad27"
      },
      "execution_count": null,
      "outputs": [
        {
          "output_type": "stream",
          "name": "stdout",
          "text": [
            "Requirement already satisfied: gym[atari] in /usr/local/lib/python3.10/dist-packages (0.25.2)\n",
            "Requirement already satisfied: numpy>=1.18.0 in /usr/local/lib/python3.10/dist-packages (from gym[atari]) (1.25.2)\n",
            "Requirement already satisfied: cloudpickle>=1.2.0 in /usr/local/lib/python3.10/dist-packages (from gym[atari]) (2.2.1)\n",
            "Requirement already satisfied: gym-notices>=0.0.4 in /usr/local/lib/python3.10/dist-packages (from gym[atari]) (0.0.8)\n",
            "Collecting ale-py~=0.7.5 (from gym[atari])\n",
            "  Downloading ale_py-0.7.5-cp310-cp310-manylinux_2_17_x86_64.manylinux2014_x86_64.whl (1.6 MB)\n",
            "\u001b[2K     \u001b[90m━━━━━━━━━━━━━━━━━━━━━━━━━━━━━━━━━━━━━━━━\u001b[0m \u001b[32m1.6/1.6 MB\u001b[0m \u001b[31m9.2 MB/s\u001b[0m eta \u001b[36m0:00:00\u001b[0m\n",
            "\u001b[?25hRequirement already satisfied: importlib-resources in /usr/local/lib/python3.10/dist-packages (from ale-py~=0.7.5->gym[atari]) (6.4.0)\n",
            "Installing collected packages: ale-py\n",
            "Successfully installed ale-py-0.7.5\n",
            "Collecting autorom[accept-rom-license]\n",
            "  Downloading AutoROM-0.6.1-py3-none-any.whl (9.4 kB)\n",
            "Requirement already satisfied: click in /usr/local/lib/python3.10/dist-packages (from autorom[accept-rom-license]) (8.1.7)\n",
            "Requirement already satisfied: requests in /usr/local/lib/python3.10/dist-packages (from autorom[accept-rom-license]) (2.31.0)\n",
            "Collecting AutoROM.accept-rom-license (from autorom[accept-rom-license])\n",
            "  Downloading AutoROM.accept-rom-license-0.6.1.tar.gz (434 kB)\n",
            "\u001b[2K     \u001b[90m━━━━━━━━━━━━━━━━━━━━━━━━━━━━━━━━━━━━━━━━\u001b[0m \u001b[32m434.7/434.7 kB\u001b[0m \u001b[31m5.9 MB/s\u001b[0m eta \u001b[36m0:00:00\u001b[0m\n",
            "\u001b[?25h  Installing build dependencies ... \u001b[?25l\u001b[?25hdone\n",
            "  Getting requirements to build wheel ... \u001b[?25l\u001b[?25hdone\n",
            "  Preparing metadata (pyproject.toml) ... \u001b[?25l\u001b[?25hdone\n",
            "Requirement already satisfied: charset-normalizer<4,>=2 in /usr/local/lib/python3.10/dist-packages (from requests->autorom[accept-rom-license]) (3.3.2)\n",
            "Requirement already satisfied: idna<4,>=2.5 in /usr/local/lib/python3.10/dist-packages (from requests->autorom[accept-rom-license]) (3.7)\n",
            "Requirement already satisfied: urllib3<3,>=1.21.1 in /usr/local/lib/python3.10/dist-packages (from requests->autorom[accept-rom-license]) (2.0.7)\n",
            "Requirement already satisfied: certifi>=2017.4.17 in /usr/local/lib/python3.10/dist-packages (from requests->autorom[accept-rom-license]) (2024.2.2)\n",
            "Building wheels for collected packages: AutoROM.accept-rom-license\n",
            "  Building wheel for AutoROM.accept-rom-license (pyproject.toml) ... \u001b[?25l\u001b[?25hdone\n",
            "  Created wheel for AutoROM.accept-rom-license: filename=AutoROM.accept_rom_license-0.6.1-py3-none-any.whl size=446659 sha256=fd947e446a2ff27fdfaf5f627b726593ca4728eb0ed134a1547d01c78d9475f6\n",
            "  Stored in directory: /root/.cache/pip/wheels/6b/1b/ef/a43ff1a2f1736d5711faa1ba4c1f61be1131b8899e6a057811\n",
            "Successfully built AutoROM.accept-rom-license\n",
            "Installing collected packages: AutoROM.accept-rom-license, autorom\n",
            "Successfully installed AutoROM.accept-rom-license-0.6.1 autorom-0.6.1\n"
          ]
        }
      ]
    },
    {
      "cell_type": "code",
      "source": [
        "import gym\n",
        "import math\n",
        "import random\n",
        "import numpy as np\n",
        "import matplotlib\n",
        "import matplotlib.pyplot as plt\n",
        "from collections import namedtuple, deque\n",
        "from itertools import count\n",
        "from gym import spaces\n",
        "\n",
        "import torch\n",
        "import torch.nn as nn\n",
        "import torch.optim as optim\n",
        "import torch.nn.functional as F"
      ],
      "metadata": {
        "id": "cXIduZz6emHX",
        "colab": {
          "base_uri": "https://localhost:8080/"
        },
        "outputId": "9cb39380-4dd7-4c9b-c114-b0716ecea252"
      },
      "execution_count": null,
      "outputs": [
        {
          "output_type": "stream",
          "name": "stderr",
          "text": [
            "/usr/local/lib/python3.10/dist-packages/ipykernel/ipkernel.py:283: DeprecationWarning: `should_run_async` will not call `transform_cell` automatically in the future. Please pass the result to `transformed_cell` argument and any exception that happen during thetransform in `preprocessing_exc_tuple` in IPython 7.17 and above.\n",
            "  and should_run_async(code)\n"
          ]
        }
      ]
    },
    {
      "cell_type": "code",
      "source": [
        "from ale_py import ALEInterface\n",
        "ale = ALEInterface()\n",
        "\n",
        "from ale_py.roms import SpaceInvaders\n",
        "ale.loadROM(SpaceInvaders)"
      ],
      "metadata": {
        "colab": {
          "base_uri": "https://localhost:8080/"
        },
        "id": "6V0RZfjye4sI",
        "outputId": "76f679fc-1cbb-4194-a770-4faae3e25009"
      },
      "execution_count": null,
      "outputs": [
        {
          "output_type": "stream",
          "name": "stderr",
          "text": [
            "/usr/local/lib/python3.10/dist-packages/ipykernel/ipkernel.py:283: DeprecationWarning: `should_run_async` will not call `transform_cell` automatically in the future. Please pass the result to `transformed_cell` argument and any exception that happen during thetransform in `preprocessing_exc_tuple` in IPython 7.17 and above.\n",
            "  and should_run_async(code)\n"
          ]
        }
      ]
    },
    {
      "cell_type": "code",
      "source": [
        "#in order to reduce instability for when the Deep Q-learning is being trained, we apply a replay system to help.\n",
        "#A replay system essentially is a way to store transistions that the agent observes and it can be used later training.\n",
        "#This helps with reducing catostraphic forgetting in which the agent forgets all previous experiences as its new experience and reduces correlation between experiences.\n",
        "\n",
        "\n",
        "#create a tuple to define the states\n",
        "Transition = namedtuple('Transition',('state', 'action', 'next_state', 'reward'))\n",
        "\n",
        "#creating that class that creates the Replay system\n",
        "class ReplayMemory(object):\n",
        "    #constructor creating a list to store the experiences\n",
        "    def __init__(self, capacity):\n",
        "        self.memory = []\n",
        "        self.maxlen=capacity\n",
        "        self.nextindex = 0\n",
        "\n",
        "    # we can not keep every single transition, so we will remove the oldest one\n",
        "    def push(self, state,action,reward,next_state,done):\n",
        "\n",
        "      data = (state, action, reward, next_state, done)\n",
        "\n",
        "      if self.nextindex >= len(self.memory):\n",
        "        self.memory.append(data)\n",
        "      else:\n",
        "        self.memory[self.nextindex] = data\n",
        "      self.nextindex = (self.nextindex + 1) % self.maxlen\n",
        "\n",
        "\n",
        "    #encode the sample into arrays\n",
        "    def encode_sample(self,indices):\n",
        "      states, actions, rewards, next_states, dones = [], [], [], [], []\n",
        "      for i in indices:\n",
        "        d = self.memory[i]\n",
        "        state, action, reward, next_state, done = d\n",
        "        states.append(np.array(state,copy=False))\n",
        "        actions.append(action)\n",
        "        rewards.append(reward)\n",
        "        next_states.append(next_state,copy=False)\n",
        "        dones.append(done)\n",
        "      return np.array(states), np.array(actions), np.array(rewards), np.array(next_states), np.array(dones)\n",
        "\n",
        "\n",
        "\n",
        "\n",
        "    # getting a random experience\n",
        "    def sample(self, batch_size):\n",
        "      indx = np.random.randint(0, len(self.memory) - 1, size = batch_size)\n",
        "      return self.encode_sample(indx)\n",
        "\n",
        "\n",
        "    # the length of the memory\n",
        "    def __len__(self):\n",
        "        return len(self.memory)\n"
      ],
      "metadata": {
        "id": "s7iZ3HHtw90C"
      },
      "execution_count": null,
      "outputs": []
    },
    {
      "cell_type": "code",
      "source": [
        "class DQN(nn.Module):\n",
        "  def __init__(self,observation_space: spaces.Box, action_space: spaces.discrete) -> None:\n",
        "     super().__init__()\n",
        "     # checks to enable that the observation space is a box, it forms a channels x widith x height, the action space is discrete\n",
        "     assert type(observation_space) == spaces.Box\n",
        "     assert type(observation_space.shape) == 3\n",
        "     assert type(action_space) == spaces.Discrete\n",
        "\n",
        "      #Convolution layer with activation function\n",
        "     self.conv = nn.Sequential(\n",
        "         nn.Conv2d(in_channels=observation_space.shape[0], out_channels=32, kernel_size=8, stride=4),\n",
        "         nn.ReLU(),\n",
        "         nn.Conv2d(in_channels=32, out_channels=64, kernel_size=4, stride=2),\n",
        "         nn.ReLU(),\n",
        "         nn.Conv2d(in_channels=64, out_channels=64, kernel_size=3, stride=1),\n",
        "         nn.ReLU()\n",
        "     )\n",
        "\n",
        "     #fully connected layer\n",
        "     self.fc = nn.Sequential(\n",
        "            nn.Linear(in_features=64*7*7 , out_features=512),\n",
        "            nn.ReLU(),\n",
        "            nn.Linear(in_features=512, out_features=action_space.n)\n",
        "        )\n",
        "  #feed foward neural network\n",
        "  def forward(self, x):\n",
        "        conv_out = self.conv(x).view(x.size()[0],-1)\n",
        "        return self.fc(conv_out)"
      ],
      "metadata": {
        "colab": {
          "base_uri": "https://localhost:8080/"
        },
        "id": "AXtroIYrw92m",
        "outputId": "2c1a861f-4fa0-4afd-af46-44b24a863063"
      },
      "execution_count": null,
      "outputs": [
        {
          "output_type": "stream",
          "name": "stderr",
          "text": [
            "/usr/local/lib/python3.10/dist-packages/ipykernel/ipkernel.py:283: DeprecationWarning: `should_run_async` will not call `transform_cell` automatically in the future. Please pass the result to `transformed_cell` argument and any exception that happen during thetransform in `preprocessing_exc_tuple` in IPython 7.17 and above.\n",
            "  and should_run_async(code)\n"
          ]
        }
      ]
    },
    {
      "cell_type": "code",
      "source": [],
      "metadata": {
        "id": "LChc70SSw94X"
      },
      "execution_count": null,
      "outputs": []
    },
    {
      "cell_type": "code",
      "source": [
        "#function to create an environment\n",
        "\n",
        "def create_env():\n",
        "  base_env = gym.make(\"ALE/SpaceInvaders-v5\")\n",
        "  env = gym.wrappers.GrayScaleObservation(base_env)\n",
        "  env = gym.wrappers.FrameStack(env,4)\n",
        "  env = gym.wrappers.ResizeObservation(env, (84,84))\n",
        "  #print(base_env.action_space)\n",
        "  #print(env.observation_space)\n",
        "\n",
        "  return env\n",
        "\n",
        "\n",
        "\n",
        "\n",
        "real_env = create_env()"
      ],
      "metadata": {
        "colab": {
          "base_uri": "https://localhost:8080/"
        },
        "id": "43aoarQ1hzAK",
        "outputId": "bbd85bb2-af66-42fa-e092-526fbcd0a41c"
      },
      "execution_count": null,
      "outputs": [
        {
          "output_type": "stream",
          "name": "stderr",
          "text": [
            "/usr/local/lib/python3.10/dist-packages/gym/core.py:317: DeprecationWarning: \u001b[33mWARN: Initializing wrapper in old step API which returns one bool instead of two. It is recommended to set `new_step_api=True` to use new step API. This will be the default behaviour in future.\u001b[0m\n",
            "  deprecation(\n",
            "/usr/local/lib/python3.10/dist-packages/gym/wrappers/step_api_compatibility.py:39: DeprecationWarning: \u001b[33mWARN: Initializing environment in old step API which returns one bool instead of two. It is recommended to set `new_step_api=True` to use new step API. This will be the default behaviour in future.\u001b[0m\n",
            "  deprecation(\n"
          ]
        }
      ]
    }
  ]
}